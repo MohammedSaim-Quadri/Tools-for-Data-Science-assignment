{
  "nbformat": 4,
  "nbformat_minor": 0,
  "metadata": {
    "colab": {
      "provenance": []
    },
    "kernelspec": {
      "name": "python3",
      "display_name": "Python 3"
    },
    "language_info": {
      "name": "python"
    }
  },
  "cells": [
    {
      "cell_type": "markdown",
      "source": [
        "# Data Science Tools and Ecosystem"
      ],
      "metadata": {
        "id": "C9_wAs-o58sV"
      }
    },
    {
      "cell_type": "markdown",
      "source": [
        "In this notebook, Data Science Tools and Ecosystem are summarized"
      ],
      "metadata": {
        "id": "e6ba0-ir6fYv"
      }
    },
    {
      "cell_type": "markdown",
      "source": [
        "Some of the popular languages that Data Scientists use for their tasks are:\n",
        "\n",
        "\n",
        "*   Python\n",
        "*   R\n",
        "*   SQL\n",
        "* C++\n",
        "etc...\n",
        "\n"
      ],
      "metadata": {
        "id": "-OZ0CVSN6oap"
      }
    },
    {
      "cell_type": "markdown",
      "source": [
        "And some of the most commonly used libraries in data science include:\n",
        "\n",
        "* NumPy\n",
        "* SciPy\n",
        "* Matplotlib\n",
        "* Pandas\n",
        "* Scikit-learn\n",
        "* PyTorch\n",
        "* Keras etc..."
      ],
      "metadata": {
        "id": "9XXSDKqZ69-X"
      }
    },
    {
      "cell_type": "markdown",
      "source": [
        "|Data Science Tools|\n",
        "|---|\n",
        "|SAS|\n",
        "|Apache Hadoop|\n",
        "|TensorFlow|"
      ],
      "metadata": {
        "id": "hyVPlcwd7Wq_"
      }
    },
    {
      "cell_type": "markdown",
      "source": [
        "**Below are a few examples, introducing aritmetic expressions**"
      ],
      "metadata": {
        "id": "X082fFm670jL"
      }
    },
    {
      "cell_type": "code",
      "source": [
        "# example to multiply and then add integers\n",
        "(5*8)+10"
      ],
      "metadata": {
        "colab": {
          "base_uri": "https://localhost:8080/"
        },
        "id": "JXSTFU5M6Iws",
        "outputId": "6f81f45e-595d-4055-c925-0e45f9f8b014"
      },
      "execution_count": 1,
      "outputs": [
        {
          "output_type": "execute_result",
          "data": {
            "text/plain": [
              "50"
            ]
          },
          "metadata": {},
          "execution_count": 1
        }
      ]
    },
    {
      "cell_type": "code",
      "source": [
        "# example to convert minutes to hours\n",
        "mins = 200\n",
        "hours = mins/60\n",
        "print(hours)"
      ],
      "metadata": {
        "colab": {
          "base_uri": "https://localhost:8080/"
        },
        "id": "W0QHMiK08LxZ",
        "outputId": "98b74cca-f60c-4048-fadb-5ad129619384"
      },
      "execution_count": 2,
      "outputs": [
        {
          "output_type": "stream",
          "name": "stdout",
          "text": [
            "3.3333333333333335\n"
          ]
        }
      ]
    },
    {
      "cell_type": "markdown",
      "source": [
        "__Objective__\n",
        "* List popular languages for Data Science\n",
        "* List popular libraries for Data Science\n",
        "* List of well known Data Science tools\n",
        "* How to provide comments in the cell"
      ],
      "metadata": {
        "id": "4VHEvMxn8btr"
      }
    },
    {
      "cell_type": "markdown",
      "source": [
        "## Author\n",
        "Mohammed Saim Ahmed Quadri"
      ],
      "metadata": {
        "id": "-d_sPW9s8s73"
      }
    },
    {
      "cell_type": "code",
      "source": [],
      "metadata": {
        "id": "iayKFYUQ8Wvy"
      },
      "execution_count": null,
      "outputs": []
    },
    {
      "cell_type": "markdown",
      "source": [],
      "metadata": {
        "id": "3eRmgWAr8yiQ"
      }
    }
  ]
}